{
 "cells": [
  {
   "cell_type": "code",
   "execution_count": 1,
   "metadata": {},
   "outputs": [],
   "source": [
    "import chess\n",
    "import dinora.net\n",
    "\n",
    "def show_policy(model, *args):\n",
    "    output = list(model.evaluate(chess.Board(), *args)[0].items())\n",
    "    output.sort(key=lambda e: e[1], reverse=True)\n",
    "    return output"
   ]
  },
  {
   "cell_type": "code",
   "execution_count": 2,
   "metadata": {},
   "outputs": [
    {
     "data": {
      "text/plain": [
       "[('d2d4', 0.10658388846782568),\n",
       " ('e2e4', 0.10489754691034471),\n",
       " ('g1f3', 0.0957328414686817),\n",
       " ('c2c4', 0.09244660337650118),\n",
       " ('b2b3', 0.09106077531080628),\n",
       " ('e2e3', 0.09081522937542638),\n",
       " ('f2f4', 0.09067718339744371),\n",
       " ('d2d3', 0.09066760841223422),\n",
       " ('g2g3', 0.09058919468944597),\n",
       " ('c2c3', 0.09054924855627118),\n",
       " ('b1c3', 0.09053646926988364),\n",
       " ('b2b4', 0.0903661276870178),\n",
       " ('f2f3', 0.090359971180965),\n",
       " ('h2h4', 0.09034716548809656),\n",
       " ('g1h3', 0.09034021320872834),\n",
       " ('g2g4', 0.09033970635783951),\n",
       " ('a2a3', 0.09033945419156628),\n",
       " ('h2h3', 0.09033523060195843),\n",
       " ('a2a4', 0.09033358328084044),\n",
       " ('b1a3', 0.09032896155147738)]"
      ]
     },
     "execution_count": 2,
     "metadata": {},
     "output_type": "execute_result"
    }
   ],
   "source": [
    "dnn_model = dinora.net.ChessModel()\n",
    "\n",
    "show_policy(dnn_model, 1.6)"
   ]
  },
  {
   "cell_type": "code",
   "execution_count": 3,
   "metadata": {},
   "outputs": [
    {
     "data": {
      "text/plain": [
       "[('h2h3', 0.060454590227163346),\n",
       " ('g2g3', 0.060454590227163346),\n",
       " ('f2f3', 0.060454590227163346),\n",
       " ('e2e3', 0.060454590227163346),\n",
       " ('d2d3', 0.060454590227163346),\n",
       " ('c2c3', 0.060454590227163346),\n",
       " ('b2b3', 0.060454590227163346),\n",
       " ('a2a3', 0.060454590227163346),\n",
       " ('h2h4', 0.060454590227163346),\n",
       " ('g2g4', 0.060454590227163346),\n",
       " ('f2f4', 0.060454590227163346),\n",
       " ('e2e4', 0.060454590227163346),\n",
       " ('d2d4', 0.060454590227163346),\n",
       " ('c2c4', 0.060454590227163346),\n",
       " ('b2b4', 0.060454590227163346),\n",
       " ('a2a4', 0.060454590227163346),\n",
       " ('g1h3', 0.00818163909134651),\n",
       " ('g1f3', 0.00818163909134651),\n",
       " ('b1c3', 0.00818163909134651),\n",
       " ('b1a3', 0.00818163909134651)]"
      ]
     },
     "execution_count": 3,
     "metadata": {},
     "output_type": "execute_result"
    }
   ],
   "source": [
    "import dinora.simple_model\n",
    "\n",
    "classic_model = dinora.simple_model.DummyModel()\n",
    "show_policy(classic_model)"
   ]
  }
 ],
 "metadata": {
  "kernelspec": {
   "display_name": "Python 3.10.5 ('.venv': poetry)",
   "language": "python",
   "name": "python3"
  },
  "language_info": {
   "codemirror_mode": {
    "name": "ipython",
    "version": 3
   },
   "file_extension": ".py",
   "mimetype": "text/x-python",
   "name": "python",
   "nbconvert_exporter": "python",
   "pygments_lexer": "ipython3",
   "version": "3.10.5"
  },
  "orig_nbformat": 4,
  "vscode": {
   "interpreter": {
    "hash": "80ac998af712ea9e92e961dc042f0169a336961d5eba3e68bf3ef46b4942a0b5"
   }
  }
 },
 "nbformat": 4,
 "nbformat_minor": 2
}
