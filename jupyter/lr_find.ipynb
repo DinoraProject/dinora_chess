{
 "cells": [
  {
   "cell_type": "code",
   "execution_count": 16,
   "metadata": {},
   "outputs": [],
   "source": [
    "from pathlib import Path\n",
    "\n",
    "import lightning.pytorch as pl\n",
    "from lightning.pytorch.tuner import Tuner\n",
    "\n",
    "from dinora import PROJECT_ROOT\n",
    "from dinora.models.torchnet.resnet import *\n",
    "from dinora.datamodules import CompactDataModule"
   ]
  },
  {
   "cell_type": "code",
   "execution_count": 3,
   "metadata": {},
   "outputs": [],
   "source": [
    "model = ResNetLight(\n",
    "    res_channels=128,\n",
    "    res_blocks=10,\n",
    "    policy_channels=64,\n",
    "    value_channels=16,\n",
    "    value_lin_channels=64,\n",
    "    learning_rate=0.8,\n",
    ")"
   ]
  },
  {
   "cell_type": "code",
   "execution_count": 17,
   "metadata": {},
   "outputs": [],
   "source": [
    "ccrl = CompactDataModule(\n",
    "    # dataset_folder=dataset_dir,\n",
    "    dataset_folder=PROJECT_ROOT / 'data' / 'converted_dataset', # local\n",
    "    batch_size=2048\n",
    ")"
   ]
  },
  {
   "cell_type": "code",
   "execution_count": 30,
   "metadata": {},
   "outputs": [],
   "source": [
    "import torch\n",
    "torch.set_float32_matmul_precision('high')"
   ]
  },
  {
   "cell_type": "code",
   "execution_count": 35,
   "metadata": {},
   "outputs": [
    {
     "name": "stderr",
     "output_type": "stream",
     "text": [
      "GPU available: True (cuda), used: True\n",
      "TPU available: False, using: 0 TPU cores\n",
      "IPU available: False, using: 0 IPUs\n",
      "HPU available: False, using: 0 HPUs\n",
      "LOCAL_RANK: 0 - CUDA_VISIBLE_DEVICES: [0]\n",
      "DEBUG:fsspec.local:open file: c:/Users/saegl/projects/python/dinora/jupyter/.lr_find_984efeff-7127-4d44-8934-5a6f94a35de2.ckpt\n"
     ]
    },
    {
     "name": "stdout",
     "output_type": "stream",
     "text": [
      "Swith to C:\\Users\\saegl\\projects\\python\\dinora\\data\\converted_dataset\\1.pgntest.npz\n",
      "Swith to C:\\Users\\saegl\\projects\\python\\dinora\\data\\converted_dataset\\1.pgntrain.npz\n"
     ]
    },
    {
     "name": "stderr",
     "output_type": "stream",
     "text": [
      "Finding best initial lr: 100%|██████████| 50/50 [00:28<00:00,  1.75it/s]`Trainer.fit` stopped: `max_steps=50` reached.\n",
      "Finding best initial lr: 100%|██████████| 50/50 [00:28<00:00,  1.73it/s]\n",
      "Learning rate set to 0.62\n",
      "Restoring states from the checkpoint path at c:\\Users\\saegl\\projects\\python\\dinora\\jupyter\\.lr_find_984efeff-7127-4d44-8934-5a6f94a35de2.ckpt\n",
      "DEBUG:fsspec.local:open file: c:/Users/saegl/projects/python/dinora/jupyter/.lr_find_984efeff-7127-4d44-8934-5a6f94a35de2.ckpt\n",
      "Restored all states from the checkpoint at c:\\Users\\saegl\\projects\\python\\dinora\\jupyter\\.lr_find_984efeff-7127-4d44-8934-5a6f94a35de2.ckpt\n",
      "DEBUG:fsspec.local:open file: c:/Users/saegl/projects/python/dinora/jupyter/lightning_logs/version_6/hparams.yaml\n",
      "C:\\Users\\saegl\\AppData\\Local\\Temp\\ipykernel_12380\\1409596999.py:12: UserWarning: Matplotlib is currently using module://matplotlib_inline.backend_inline, which is a non-GUI backend, so cannot show the figure.\n",
      "  fig.show()\n"
     ]
    },
    {
     "data": {
      "image/png": "[encoded data removed]",
      "text/plain": [
       "<Figure size 640x480 with 1 Axes>"
      ]
     },
     "metadata": {},
     "output_type": "display_data"
    }
   ],
   "source": [
    "trainer = pl.Trainer()\n",
    "tuner = Tuner(trainer)\n",
    "lr_finder = tuner.lr_find(\n",
    "    model,\n",
    "    datamodule=ccrl,\n",
    "    min_lr=1e-100,\n",
    "    max_lr=1,\n",
    "    mode='linear',\n",
    "    num_training=50,\n",
    ")\n",
    "fig = lr_finder.plot(suggest=True)\n",
    "fig.show()"
   ]
  },
  {
   "cell_type": "code",
   "execution_count": 34,
   "metadata": {},
   "outputs": [
    {
     "data": {
      "text/plain": [
       "0.62"
      ]
     },
     "execution_count": 34,
     "metadata": {},
     "output_type": "execute_result"
    }
   ],
   "source": [
    "lr_finder.suggestion()"
   ]
  },
  {
   "cell_type": "code",
   "execution_count": 25,
   "metadata": {},
   "outputs": [
    {
     "data": {
      "text/plain": [
       "0.001"
      ]
     },
     "execution_count": 25,
     "metadata": {},
     "output_type": "execute_result"
    }
   ],
   "source": [
    "1e-3"
   ]
  }
 ],
 "metadata": {
  "kernelspec": {
   "display_name": "dinora_chess",
   "language": "python",
   "name": "python3"
  },
  "language_info": {
   "codemirror_mode": {
    "name": "ipython",
    "version": 3
   },
   "file_extension": ".py",
   "mimetype": "text/x-python",
   "name": "python",
   "nbconvert_exporter": "python",
   "pygments_lexer": "ipython3",
   "version": "3.10.12"
  },
  "orig_nbformat": 4
 },
 "nbformat": 4,
 "nbformat_minor": 2
}
