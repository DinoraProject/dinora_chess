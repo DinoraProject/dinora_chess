{
 "cells": [
  {
   "cell_type": "code",
   "execution_count": 1,
   "metadata": {},
   "outputs": [],
   "source": [
    "from pathlib import Path\n",
    "\n",
    "import lightning.pytorch as pl\n",
    "from lightning.pytorch.tuner import Tuner\n",
    "\n",
    "from dinora import PROJECT_ROOT\n",
    "from dinora.models.torchnet.resnet import *\n",
    "from dinora.datamodules import CompactDataModule"
   ]
  },
  {
   "cell_type": "code",
   "execution_count": 3,
   "metadata": {},
   "outputs": [],
   "source": [
    "model = ResNetLight(\n",
    "    res_channels=128,\n",
    "    res_blocks=10,\n",
    "    policy_channels=64,\n",
    "    value_channels=16,\n",
    "    value_lin_channels=64,\n",
    "    learning_rate=0.8,\n",
    "    lr_scheduler_gamma=1.0,\n",
    "    lr_scheduler_freq=10000,\n",
    ")"
   ]
  },
  {
   "cell_type": "code",
   "execution_count": 4,
   "metadata": {},
   "outputs": [],
   "source": [
    "ccrl = CompactDataModule(\n",
    "    # dataset_folder=dataset_dir,\n",
    "    dataset_folder=PROJECT_ROOT / 'data' / 'converted_dataset', # local\n",
    "    batch_size=2048\n",
    ")"
   ]
  },
  {
   "cell_type": "code",
   "execution_count": 5,
   "metadata": {},
   "outputs": [],
   "source": [
    "import torch\n",
    "torch.set_float32_matmul_precision('highest')"
   ]
  },
  {
   "cell_type": "code",
   "execution_count": 9,
   "metadata": {},
   "outputs": [
    {
     "name": "stderr",
     "output_type": "stream",
     "text": [
      "GPU available: True (cuda), used: True\n",
      "TPU available: False, using: 0 TPU cores\n",
      "IPU available: False, using: 0 IPUs\n",
      "HPU available: False, using: 0 HPUs\n",
      "c:\\Users\\saegl\\miniconda3\\envs\\dinora_chess\\lib\\site-packages\\lightning\\pytorch\\loops\\utilities.py:70: PossibleUserWarning: `max_epochs` was not set. Setting it to 1000 epochs. To train without an epoch limit, set `max_epochs=-1`.\n",
      "  rank_zero_warn(\n",
      "You are using a CUDA device ('NVIDIA GeForce RTX 3050 Ti Laptop GPU') that has Tensor Cores. To properly utilize them, you should set `torch.set_float32_matmul_precision('medium' | 'high')` which will trade-off precision for performance. For more details, read https://pytorch.org/docs/stable/generated/torch.set_float32_matmul_precision.html#torch.set_float32_matmul_precision\n",
      "LOCAL_RANK: 0 - CUDA_VISIBLE_DEVICES: [0]\n",
      "DEBUG:fsspec.local:open file: c:/Users/saegl/projects/python/dinora/jupyter/.lr_find_12e23397-494c-4aa4-9f81-c697aef9e466.ckpt\n",
      "c:\\Users\\saegl\\miniconda3\\envs\\dinora_chess\\lib\\site-packages\\lightning\\pytorch\\trainer\\connectors\\data_connector.py:432: PossibleUserWarning: The dataloader, train_dataloader, does not have many workers which may be a bottleneck. Consider increasing the value of the `num_workers` argument` (try 16 which is the number of cpus on this machine) in the `DataLoader` init to improve performance.\n",
      "  rank_zero_warn(\n",
      "c:\\Users\\saegl\\miniconda3\\envs\\dinora_chess\\lib\\site-packages\\lightning\\pytorch\\trainer\\connectors\\data_connector.py:432: PossibleUserWarning: The dataloader, val_dataloader, does not have many workers which may be a bottleneck. Consider increasing the value of the `num_workers` argument` (try 16 which is the number of cpus on this machine) in the `DataLoader` init to improve performance.\n",
      "  rank_zero_warn(\n"
     ]
    },
    {
     "name": "stdout",
     "output_type": "stream",
     "text": [
      "Adjusting learning rate of group 0 to 2.5119e-04.\n",
      "Swith to C:\\Users\\saegl\\projects\\python\\dinora\\data\\converted_dataset\\1.pgntest.npz\n",
      "Swith to C:\\Users\\saegl\\projects\\python\\dinora\\data\\converted_dataset\\2.pgntest.npz\n",
      "Swith to C:\\Users\\saegl\\projects\\python\\dinora\\data\\converted_dataset\\1.pgntrain.npz\n"
     ]
    },
    {
     "name": "stderr",
     "output_type": "stream",
     "text": [
      "Finding best initial lr:  80%|████████  | 160/200 [01:34<00:23,  1.69it/s]\n"
     ]
    },
    {
     "name": "stdout",
     "output_type": "stream",
     "text": [
      "Swith to C:\\Users\\saegl\\projects\\python\\dinora\\data\\converted_dataset\\1.pgntest.npz\n",
      "Swith to C:\\Users\\saegl\\projects\\python\\dinora\\data\\converted_dataset\\2.pgntest.npz\n"
     ]
    },
    {
     "name": "stderr",
     "output_type": "stream",
     "text": [
      "LR finder stopped early after 160 steps due to diverging loss.\n",
      "Learning rate set to 0.0002722701308077912\n",
      "Restoring states from the checkpoint path at c:\\Users\\saegl\\projects\\python\\dinora\\jupyter\\.lr_find_12e23397-494c-4aa4-9f81-c697aef9e466.ckpt\n",
      "DEBUG:fsspec.local:open file: c:/Users/saegl/projects/python/dinora/jupyter/.lr_find_12e23397-494c-4aa4-9f81-c697aef9e466.ckpt\n",
      "Restored all states from the checkpoint at c:\\Users\\saegl\\projects\\python\\dinora\\jupyter\\.lr_find_12e23397-494c-4aa4-9f81-c697aef9e466.ckpt\n",
      "DEBUG:fsspec.local:open file: c:/Users/saegl/projects/python/dinora/jupyter/lightning_logs/version_2/hparams.yaml\n",
      "C:\\Users\\saegl\\AppData\\Local\\Temp\\ipykernel_8508\\46973576.py:11: UserWarning: Matplotlib is currently using module://matplotlib_inline.backend_inline, which is a non-GUI backend, so cannot show the figure.\n",
      "  fig.show()\n",
      "DEBUG:matplotlib.ticker:vmin 3.019951720402019e-11 vmax 8.317637711026721\n",
      "DEBUG:matplotlib.ticker:ticklocs array([1.e-13, 1.e-11, 1.e-09, 1.e-07, 1.e-05, 1.e-03, 1.e-01, 1.e+01,\n",
      "       1.e+03])\n",
      "DEBUG:matplotlib.ticker:vmin 3.019951720402019e-11 vmax 8.317637711026721\n",
      "DEBUG:matplotlib.ticker:ticklocs array([], dtype=float64)\n",
      "DEBUG:matplotlib.ticker:vmin 3.019951720402019e-11 vmax 8.317637711026721\n",
      "DEBUG:matplotlib.ticker:ticklocs array([1.e-13, 1.e-11, 1.e-09, 1.e-07, 1.e-05, 1.e-03, 1.e-01, 1.e+01,\n",
      "       1.e+03])\n",
      "DEBUG:matplotlib.ticker:vmin 3.019951720402019e-11 vmax 8.317637711026721\n",
      "DEBUG:matplotlib.ticker:ticklocs array([1.e-13, 1.e-11, 1.e-09, 1.e-07, 1.e-05, 1.e-03, 1.e-01, 1.e+01,\n",
      "       1.e+03])\n",
      "DEBUG:matplotlib.ticker:vmin 3.019951720402019e-11 vmax 8.317637711026721\n",
      "DEBUG:matplotlib.ticker:ticklocs array([], dtype=float64)\n",
      "DEBUG:matplotlib.ticker:vmin 3.019951720402019e-11 vmax 8.317637711026721\n",
      "DEBUG:matplotlib.ticker:ticklocs array([1.e-13, 1.e-11, 1.e-09, 1.e-07, 1.e-05, 1.e-03, 1.e-01, 1.e+01,\n",
      "       1.e+03])\n",
      "DEBUG:matplotlib.ticker:vmin 3.019951720402019e-11 vmax 8.317637711026721\n",
      "DEBUG:matplotlib.ticker:ticklocs array([1.e-13, 1.e-11, 1.e-09, 1.e-07, 1.e-05, 1.e-03, 1.e-01, 1.e+01,\n",
      "       1.e+03])\n",
      "DEBUG:matplotlib.ticker:vmin 3.019951720402019e-11 vmax 8.317637711026721\n",
      "DEBUG:matplotlib.ticker:ticklocs array([], dtype=float64)\n",
      "DEBUG:matplotlib.ticker:vmin 3.019951720402019e-11 vmax 8.317637711026721\n",
      "DEBUG:matplotlib.ticker:ticklocs array([1.e-13, 1.e-11, 1.e-09, 1.e-07, 1.e-05, 1.e-03, 1.e-01, 1.e+01,\n",
      "       1.e+03])\n",
      "DEBUG:matplotlib.ticker:vmin 3.019951720402019e-11 vmax 8.317637711026721\n",
      "DEBUG:matplotlib.ticker:ticklocs array([1.e-13, 1.e-11, 1.e-09, 1.e-07, 1.e-05, 1.e-03, 1.e-01, 1.e+01,\n",
      "       1.e+03])\n",
      "DEBUG:matplotlib.ticker:vmin 3.019951720402019e-11 vmax 8.317637711026721\n",
      "DEBUG:matplotlib.ticker:ticklocs array([], dtype=float64)\n",
      "DEBUG:matplotlib.ticker:vmin 3.019951720402019e-11 vmax 8.317637711026721\n",
      "DEBUG:matplotlib.ticker:ticklocs array([1.e-13, 1.e-11, 1.e-09, 1.e-07, 1.e-05, 1.e-03, 1.e-01, 1.e+01,\n",
      "       1.e+03])\n",
      "DEBUG:matplotlib.ticker:vmin 3.019951720402019e-11 vmax 8.317637711026721\n",
      "DEBUG:matplotlib.ticker:ticklocs array([1.e-13, 1.e-11, 1.e-09, 1.e-07, 1.e-05, 1.e-03, 1.e-01, 1.e+01,\n",
      "       1.e+03])\n",
      "DEBUG:matplotlib.ticker:vmin 3.019951720402019e-11 vmax 8.317637711026721\n",
      "DEBUG:matplotlib.ticker:ticklocs array([], dtype=float64)\n",
      "DEBUG:matplotlib.ticker:vmin 3.019951720402019e-11 vmax 8.317637711026721\n",
      "DEBUG:matplotlib.ticker:ticklocs array([1.e-13, 1.e-11, 1.e-09, 1.e-07, 1.e-05, 1.e-03, 1.e-01, 1.e+01,\n",
      "       1.e+03])\n",
      "DEBUG:matplotlib.ticker:vmin 3.019951720402019e-11 vmax 8.317637711026721\n",
      "DEBUG:matplotlib.ticker:ticklocs array([1.e-13, 1.e-11, 1.e-09, 1.e-07, 1.e-05, 1.e-03, 1.e-01, 1.e+01,\n",
      "       1.e+03])\n",
      "DEBUG:matplotlib.ticker:vmin 3.019951720402019e-11 vmax 8.317637711026721\n",
      "DEBUG:matplotlib.ticker:ticklocs array([], dtype=float64)\n",
      "DEBUG:matplotlib.ticker:vmin 3.019951720402019e-11 vmax 8.317637711026721\n",
      "DEBUG:matplotlib.ticker:ticklocs array([1.e-13, 1.e-11, 1.e-09, 1.e-07, 1.e-05, 1.e-03, 1.e-01, 1.e+01,\n",
      "       1.e+03])\n",
      "DEBUG:matplotlib.ticker:vmin 3.019951720402019e-11 vmax 8.317637711026721\n",
      "DEBUG:matplotlib.ticker:ticklocs array([1.e-13, 1.e-11, 1.e-09, 1.e-07, 1.e-05, 1.e-03, 1.e-01, 1.e+01,\n",
      "       1.e+03])\n",
      "DEBUG:matplotlib.ticker:vmin 3.019951720402019e-11 vmax 8.317637711026721\n",
      "DEBUG:matplotlib.ticker:ticklocs array([], dtype=float64)\n",
      "DEBUG:matplotlib.ticker:vmin 3.019951720402019e-11 vmax 8.317637711026721\n",
      "DEBUG:matplotlib.ticker:ticklocs array([1.e-13, 1.e-11, 1.e-09, 1.e-07, 1.e-05, 1.e-03, 1.e-01, 1.e+01,\n",
      "       1.e+03])\n",
      "DEBUG:matplotlib.ticker:vmin 3.019951720402019e-11 vmax 8.317637711026721\n",
      "DEBUG:matplotlib.ticker:ticklocs array([1.e-13, 1.e-11, 1.e-09, 1.e-07, 1.e-05, 1.e-03, 1.e-01, 1.e+01,\n",
      "       1.e+03])\n",
      "DEBUG:matplotlib.ticker:vmin 3.019951720402019e-11 vmax 8.317637711026721\n",
      "DEBUG:matplotlib.ticker:ticklocs array([], dtype=float64)\n",
      "DEBUG:matplotlib.ticker:vmin 3.019951720402019e-11 vmax 8.317637711026721\n",
      "DEBUG:matplotlib.ticker:ticklocs array([1.e-13, 1.e-11, 1.e-09, 1.e-07, 1.e-05, 1.e-03, 1.e-01, 1.e+01,\n",
      "       1.e+03])\n",
      "DEBUG:matplotlib.ticker:vmin 3.019951720402019e-11 vmax 8.317637711026721\n",
      "DEBUG:matplotlib.ticker:ticklocs array([1.e-13, 1.e-11, 1.e-09, 1.e-07, 1.e-05, 1.e-03, 1.e-01, 1.e+01,\n",
      "       1.e+03])\n",
      "DEBUG:matplotlib.ticker:vmin 3.019951720402019e-11 vmax 8.317637711026721\n",
      "DEBUG:matplotlib.ticker:ticklocs array([], dtype=float64)\n",
      "DEBUG:matplotlib.ticker:vmin 3.019951720402019e-11 vmax 8.317637711026721\n",
      "DEBUG:matplotlib.ticker:ticklocs array([1.e-13, 1.e-11, 1.e-09, 1.e-07, 1.e-05, 1.e-03, 1.e-01, 1.e+01,\n",
      "       1.e+03])\n",
      "DEBUG:matplotlib.ticker:vmin 3.019951720402019e-11 vmax 8.317637711026721\n",
      "DEBUG:matplotlib.ticker:ticklocs array([1.e-13, 1.e-11, 1.e-09, 1.e-07, 1.e-05, 1.e-03, 1.e-01, 1.e+01,\n",
      "       1.e+03])\n",
      "DEBUG:matplotlib.ticker:vmin 3.019951720402019e-11 vmax 8.317637711026721\n",
      "DEBUG:matplotlib.ticker:ticklocs array([], dtype=float64)\n",
      "DEBUG:matplotlib.ticker:vmin 3.019951720402019e-11 vmax 8.317637711026721\n",
      "DEBUG:matplotlib.ticker:ticklocs array([1.e-13, 1.e-11, 1.e-09, 1.e-07, 1.e-05, 1.e-03, 1.e-01, 1.e+01,\n",
      "       1.e+03])\n",
      "DEBUG:matplotlib.ticker:vmin 3.019951720402019e-11 vmax 8.317637711026721\n",
      "DEBUG:matplotlib.ticker:ticklocs array([1.e-13, 1.e-11, 1.e-09, 1.e-07, 1.e-05, 1.e-03, 1.e-01, 1.e+01,\n",
      "       1.e+03])\n",
      "DEBUG:matplotlib.ticker:vmin 3.019951720402019e-11 vmax 8.317637711026721\n",
      "DEBUG:matplotlib.ticker:ticklocs array([], dtype=float64)\n",
      "DEBUG:matplotlib.ticker:vmin 3.019951720402019e-11 vmax 8.317637711026721\n",
      "DEBUG:matplotlib.ticker:ticklocs array([1.e-13, 1.e-11, 1.e-09, 1.e-07, 1.e-05, 1.e-03, 1.e-01, 1.e+01,\n",
      "       1.e+03])\n",
      "DEBUG:matplotlib.ticker:vmin 3.019951720402019e-11 vmax 8.317637711026721\n",
      "DEBUG:matplotlib.ticker:ticklocs array([1.e-13, 1.e-11, 1.e-09, 1.e-07, 1.e-05, 1.e-03, 1.e-01, 1.e+01,\n",
      "       1.e+03])\n",
      "DEBUG:matplotlib.ticker:vmin 3.019951720402019e-11 vmax 8.317637711026721\n",
      "DEBUG:matplotlib.ticker:ticklocs array([], dtype=float64)\n",
      "DEBUG:matplotlib.ticker:vmin 3.019951720402019e-11 vmax 8.317637711026721\n",
      "DEBUG:matplotlib.ticker:ticklocs array([1.e-13, 1.e-11, 1.e-09, 1.e-07, 1.e-05, 1.e-03, 1.e-01, 1.e+01,\n",
      "       1.e+03])\n",
      "DEBUG:matplotlib.ticker:vmin 3.019951720402019e-11 vmax 8.317637711026721\n",
      "DEBUG:matplotlib.ticker:ticklocs array([1.e-13, 1.e-11, 1.e-09, 1.e-07, 1.e-05, 1.e-03, 1.e-01, 1.e+01,\n",
      "       1.e+03])\n",
      "DEBUG:matplotlib.ticker:vmin 3.019951720402019e-11 vmax 8.317637711026721\n",
      "DEBUG:matplotlib.ticker:ticklocs array([], dtype=float64)\n",
      "DEBUG:matplotlib.ticker:vmin 3.019951720402019e-11 vmax 8.317637711026721\n",
      "DEBUG:matplotlib.ticker:ticklocs array([1.e-13, 1.e-11, 1.e-09, 1.e-07, 1.e-05, 1.e-03, 1.e-01, 1.e+01,\n",
      "       1.e+03])\n",
      "DEBUG:matplotlib.ticker:vmin 3.019951720402019e-11 vmax 8.317637711026721\n",
      "DEBUG:matplotlib.ticker:ticklocs array([1.e-13, 1.e-11, 1.e-09, 1.e-07, 1.e-05, 1.e-03, 1.e-01, 1.e+01,\n",
      "       1.e+03])\n",
      "DEBUG:matplotlib.ticker:vmin 3.019951720402019e-11 vmax 8.317637711026721\n",
      "DEBUG:matplotlib.ticker:ticklocs array([], dtype=float64)\n",
      "DEBUG:matplotlib.ticker:vmin 3.019951720402019e-11 vmax 8.317637711026721\n",
      "DEBUG:matplotlib.ticker:ticklocs array([1.e-13, 1.e-11, 1.e-09, 1.e-07, 1.e-05, 1.e-03, 1.e-01, 1.e+01,\n",
      "       1.e+03])\n",
      "DEBUG:matplotlib.ticker:vmin 3.019951720402019e-11 vmax 8.317637711026721\n",
      "DEBUG:matplotlib.ticker:ticklocs array([1.e-13, 1.e-11, 1.e-09, 1.e-07, 1.e-05, 1.e-03, 1.e-01, 1.e+01,\n",
      "       1.e+03])\n",
      "DEBUG:matplotlib.ticker:vmin 3.019951720402019e-11 vmax 8.317637711026721\n",
      "DEBUG:matplotlib.ticker:ticklocs array([], dtype=float64)\n",
      "DEBUG:matplotlib.ticker:vmin 3.019951720402019e-11 vmax 8.317637711026721\n",
      "DEBUG:matplotlib.ticker:ticklocs array([1.e-13, 1.e-11, 1.e-09, 1.e-07, 1.e-05, 1.e-03, 1.e-01, 1.e+01,\n",
      "       1.e+03])\n",
      "DEBUG:matplotlib.ticker:vmin 3.019951720402019e-11 vmax 8.317637711026721\n",
      "DEBUG:matplotlib.ticker:ticklocs array([1.e-13, 1.e-11, 1.e-09, 1.e-07, 1.e-05, 1.e-03, 1.e-01, 1.e+01,\n",
      "       1.e+03])\n",
      "DEBUG:matplotlib.ticker:vmin 3.019951720402019e-11 vmax 8.317637711026721\n",
      "DEBUG:matplotlib.ticker:ticklocs array([], dtype=float64)\n",
      "DEBUG:matplotlib.ticker:vmin 3.019951720402019e-11 vmax 8.317637711026721\n",
      "DEBUG:matplotlib.ticker:ticklocs array([1.e-13, 1.e-11, 1.e-09, 1.e-07, 1.e-05, 1.e-03, 1.e-01, 1.e+01,\n",
      "       1.e+03])\n",
      "DEBUG:matplotlib.ticker:vmin 3.019951720402019e-11 vmax 8.317637711026721\n",
      "DEBUG:matplotlib.ticker:ticklocs array([1.e-13, 1.e-11, 1.e-09, 1.e-07, 1.e-05, 1.e-03, 1.e-01, 1.e+01,\n",
      "       1.e+03])\n",
      "DEBUG:matplotlib.ticker:vmin 3.019951720402019e-11 vmax 8.317637711026721\n",
      "DEBUG:matplotlib.ticker:ticklocs array([], dtype=float64)\n",
      "DEBUG:matplotlib.ticker:vmin 3.019951720402019e-11 vmax 8.317637711026721\n",
      "DEBUG:matplotlib.ticker:ticklocs array([1.e-13, 1.e-11, 1.e-09, 1.e-07, 1.e-05, 1.e-03, 1.e-01, 1.e+01,\n",
      "       1.e+03])\n",
      "DEBUG:matplotlib.ticker:vmin 3.019951720402019e-11 vmax 8.317637711026721\n",
      "DEBUG:matplotlib.ticker:ticklocs array([1.e-13, 1.e-11, 1.e-09, 1.e-07, 1.e-05, 1.e-03, 1.e-01, 1.e+01,\n",
      "       1.e+03])\n",
      "DEBUG:matplotlib.ticker:vmin 3.019951720402019e-11 vmax 8.317637711026721\n",
      "DEBUG:matplotlib.ticker:ticklocs array([], dtype=float64)\n",
      "DEBUG:matplotlib.ticker:vmin 3.019951720402019e-11 vmax 8.317637711026721\n",
      "DEBUG:matplotlib.ticker:ticklocs array([1.e-13, 1.e-11, 1.e-09, 1.e-07, 1.e-05, 1.e-03, 1.e-01, 1.e+01,\n",
      "       1.e+03])\n",
      "DEBUG:matplotlib.ticker:vmin 3.019951720402019e-11 vmax 8.317637711026721\n",
      "DEBUG:matplotlib.ticker:ticklocs array([1.e-13, 1.e-11, 1.e-09, 1.e-07, 1.e-05, 1.e-03, 1.e-01, 1.e+01,\n",
      "       1.e+03])\n",
      "DEBUG:matplotlib.ticker:vmin 3.019951720402019e-11 vmax 8.317637711026721\n",
      "DEBUG:matplotlib.ticker:ticklocs array([], dtype=float64)\n",
      "DEBUG:matplotlib.ticker:vmin 3.019951720402019e-11 vmax 8.317637711026721\n",
      "DEBUG:matplotlib.ticker:ticklocs array([1.e-13, 1.e-11, 1.e-09, 1.e-07, 1.e-05, 1.e-03, 1.e-01, 1.e+01,\n",
      "       1.e+03])\n",
      "DEBUG:matplotlib.ticker:vmin 3.019951720402019e-11 vmax 8.317637711026721\n",
      "DEBUG:matplotlib.ticker:ticklocs array([1.e-13, 1.e-11, 1.e-09, 1.e-07, 1.e-05, 1.e-03, 1.e-01, 1.e+01,\n",
      "       1.e+03])\n",
      "DEBUG:matplotlib.ticker:vmin 3.019951720402019e-11 vmax 8.317637711026721\n",
      "DEBUG:matplotlib.ticker:ticklocs array([], dtype=float64)\n",
      "DEBUG:matplotlib.ticker:vmin 3.019951720402019e-11 vmax 8.317637711026721\n",
      "DEBUG:matplotlib.ticker:ticklocs array([1.e-13, 1.e-11, 1.e-09, 1.e-07, 1.e-05, 1.e-03, 1.e-01, 1.e+01,\n",
      "       1.e+03])\n",
      "DEBUG:matplotlib.ticker:vmin 3.019951720402019e-11 vmax 8.317637711026721\n",
      "DEBUG:matplotlib.ticker:ticklocs array([1.e-13, 1.e-11, 1.e-09, 1.e-07, 1.e-05, 1.e-03, 1.e-01, 1.e+01,\n",
      "       1.e+03])\n",
      "DEBUG:matplotlib.ticker:vmin 3.019951720402019e-11 vmax 8.317637711026721\n",
      "DEBUG:matplotlib.ticker:ticklocs array([], dtype=float64)\n",
      "DEBUG:matplotlib.ticker:vmin 3.019951720402019e-11 vmax 8.317637711026721\n",
      "DEBUG:matplotlib.ticker:ticklocs array([1.e-13, 1.e-11, 1.e-09, 1.e-07, 1.e-05, 1.e-03, 1.e-01, 1.e+01,\n",
      "       1.e+03])\n"
     ]
    },
    {
     "data": {
      "image/png": "[encoded data removed]",
      "text/plain": [
       "<Figure size 640x480 with 1 Axes>"
      ]
     },
     "metadata": {},
     "output_type": "display_data"
    }
   ],
   "source": [
    "trainer = pl.Trainer()\n",
    "tuner = Tuner(trainer)\n",
    "lr_finder = tuner.lr_find(\n",
    "    model,\n",
    "    min_lr=1e-10,\n",
    "    max_lr=1e3,\n",
    "    datamodule=ccrl,\n",
    "    num_training=200,\n",
    ")\n",
    "fig = lr_finder.plot(suggest=True)\n",
    "fig.show()"
   ]
  },
  {
   "cell_type": "code",
   "execution_count": 10,
   "metadata": {},
   "outputs": [
    {
     "data": {
      "text/plain": [
       "0.0002722701308077912"
      ]
     },
     "execution_count": 10,
     "metadata": {},
     "output_type": "execute_result"
    }
   ],
   "source": [
    "lr_finder.suggestion()"
   ]
  },
  {
   "cell_type": "code",
   "execution_count": 25,
   "metadata": {},
   "outputs": [
    {
     "data": {
      "text/plain": [
       "0.001"
      ]
     },
     "execution_count": 25,
     "metadata": {},
     "output_type": "execute_result"
    }
   ],
   "source": [
    "1e-3"
   ]
  }
 ],
 "metadata": {
  "kernelspec": {
   "display_name": "dinora_chess",
   "language": "python",
   "name": "python3"
  },
  "language_info": {
   "codemirror_mode": {
    "name": "ipython",
    "version": 3
   },
   "file_extension": ".py",
   "mimetype": "text/x-python",
   "name": "python",
   "nbconvert_exporter": "python",
   "pygments_lexer": "ipython3",
   "version": "3.10.12"
  },
  "orig_nbformat": 4
 },
 "nbformat": 4,
 "nbformat_minor": 2
}
