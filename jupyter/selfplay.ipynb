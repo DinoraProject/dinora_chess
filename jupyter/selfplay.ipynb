{
 "cells": [
  {
   "cell_type": "code",
   "execution_count": 1,
   "metadata": {},
   "outputs": [],
   "source": [
    "import chess\n",
    "import chess.pgn\n",
    "from dinora.mcts.search import run_mcts, MCTSparams\n",
    "from dinora.mcts.constraints import NodesCountConstraint\n",
    "from dinora.models.dnn import DNNModel"
   ]
  },
  {
   "cell_type": "code",
   "execution_count": 2,
   "metadata": {},
   "outputs": [],
   "source": [
    "dnn_model = DNNModel()"
   ]
  },
  {
   "cell_type": "code",
   "execution_count": 4,
   "metadata": {},
   "outputs": [
    {
     "name": "stdout",
     "output_type": "stream",
     "text": [
      "info depth 1 seldepth 1 score cp -4 nodes 19 nps 27 pv d2d4\n",
      "info string g1h3 0 \t(P: 8.03%) \t(Q: -1.0)\n",
      "info string g1f3 0 \t(P: 8.33%) \t(Q: -1.0)\n",
      "info string b1c3 0 \t(P: 8.04%) \t(Q: -1.0)\n",
      "info string b1a3 0 \t(P: 8.03%) \t(Q: -1.0)\n",
      "info string h2h3 0 \t(P: 8.03%) \t(Q: -1.0)\n",
      "info string g2g3 0 \t(P: 8.04%) \t(Q: -1.0)\n",
      "info string f2f3 0 \t(P: 8.03%) \t(Q: -1.0)\n",
      "info string e2e3 0 \t(P: 8.06%) \t(Q: -1.0)\n",
      "info string d2d3 0 \t(P: 8.05%) \t(Q: -1.0)\n",
      "info string c2c3 0 \t(P: 8.04%) \t(Q: -1.0)\n",
      "info string b2b3 0 \t(P: 8.07%) \t(Q: -1.0)\n",
      "info string a2a3 0 \t(P: 8.03%) \t(Q: -1.0)\n",
      "info string h2h4 0 \t(P: 8.03%) \t(Q: -1.0)\n",
      "info string g2g4 0 \t(P: 8.03%) \t(Q: -1.0)\n",
      "info string f2f4 0 \t(P: 8.05%) \t(Q: -1.0)\n",
      "info string e2e4 0 \t(P: 8.82%) \t(Q: -1.0)\n",
      "info string c2c4 0 \t(P: 8.15%) \t(Q: -1.0)\n",
      "info string b2b4 0 \t(P: 8.03%) \t(Q: -1.0)\n",
      "info string a2a4 0 \t(P: 8.03%) \t(Q: -1.0)\n",
      "info string d2d4 19 \t(P: 8.9%) \t(Q: -0.01359)\n",
      "d2d4 g8f6 g1f3 e7e6 c1g5 d7d5 b1d2 f8e7 e2e3 e8g8 f1d3 b7b6 e1g1 c8b7 f3e5 b8d7 f2f4 c7c5 c2c3 g8h8\n"
     ]
    }
   ],
   "source": [
    "game = chess.pgn.Game()\n",
    "node = game\n",
    "\n",
    "i = 0\n",
    "while not node.board().is_game_over(claim_draw=True):\n",
    "    i += 1\n",
    "    rootnode = run_mcts(node.board(), NodesCountConstraint(20), dnn_model, MCTSparams())\n",
    "\n",
    "    move = rootnode.get_most_visited_move()\n",
    "    node = node.add_variation(move)\n",
    "    print(i)\n"
   ]
  },
  {
   "cell_type": "code",
   "execution_count": 6,
   "metadata": {},
   "outputs": [
    {
     "name": "stdout",
     "output_type": "stream",
     "text": [
      "[Event \"?\"]\n",
      "[Site \"?\"]\n",
      "[Date \"????.??.??\"]\n",
      "[Round \"?\"]\n",
      "[White \"?\"]\n",
      "[Black \"?\"]\n",
      "[Result \"*\"]\n",
      "\n",
      "1. d4 Nf6 2. Nf3 e6 3. Bg5 d5 4. Nbd2 Be7 5. e3 O-O 6. Bd3 b6 7. O-O Bb7 8. Ne5 Nbd7 9. f4 c5 10. c3 Ne4 11. Bxe7 Qxe7 12. Nxe4 dxe4 13. Bc2 cxd4 14. exd4 Nf6 15. Qe2 Rac8 16. Rae1 Rfd8 17. g4 Nd5 18. Bxe4 f6 19. Nd3 Qd6 20. Qf3 Ba6 21. g5 f5 22. Bxd5 exd5 23. Ne5 Bxf1 24. Rxf1 b5 25. Qh5 b4 26. Qf7+ Kh8 27. Qxf5 bxc3 28. bxc3 Rf8 29. Qg4 Rxc3 30. f5 Rc2 31. f6 gxf6 32. gxf6 Rxf6 33. Rxf6 Qxf6 34. Nd7 Qf2+ 35. Kh1 Qxh2# *\n"
     ]
    }
   ],
   "source": [
    "print(game)\n"
   ]
  }
 ],
 "metadata": {
  "kernelspec": {
   "display_name": "Python 3.10.5 ('.venv': poetry)",
   "language": "python",
   "name": "python3"
  },
  "language_info": {
   "codemirror_mode": {
    "name": "ipython",
    "version": 3
   },
   "file_extension": ".py",
   "mimetype": "text/x-python",
   "name": "python",
   "nbconvert_exporter": "python",
   "pygments_lexer": "ipython3",
   "version": "3.10.5"
  },
  "orig_nbformat": 4,
  "vscode": {
   "interpreter": {
    "hash": "80ac998af712ea9e92e961dc042f0169a336961d5eba3e68bf3ef46b4942a0b5"
   }
  }
 },
 "nbformat": 4,
 "nbformat_minor": 2
}
