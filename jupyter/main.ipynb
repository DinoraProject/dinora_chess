{
 "cells": [
  {
   "cell_type": "code",
   "execution_count": null,
   "metadata": {},
   "outputs": [],
   "source": [
    "import chess"
   ]
  },
  {
   "cell_type": "code",
   "execution_count": 2,
   "metadata": {},
   "outputs": [
    {
     "ename": "OSError",
     "evalue": "No file or directory found at C:\\Users\\Saegl\\projects\\python\\dinora\\dinora\\..\\models\\best_model.h5",
     "output_type": "error",
     "traceback": [
      "\u001b[1;31m---------------------------------------------------------------------------\u001b[0m",
      "\u001b[1;31mOSError\u001b[0m                                   Traceback (most recent call last)",
      "Cell \u001b[1;32mIn [2], line 13\u001b[0m\n\u001b[0;32m     11\u001b[0m fen \u001b[39m=\u001b[39m \u001b[39minput\u001b[39m(\u001b[39m\"\u001b[39m\u001b[39mfen>\u001b[39m\u001b[39m\"\u001b[39m) \u001b[39mor\u001b[39;00m chess\u001b[39m.\u001b[39mSTARTING_FEN\n\u001b[0;32m     12\u001b[0m board \u001b[39m=\u001b[39m chess\u001b[39m.\u001b[39mBoard(fen)\n\u001b[1;32m---> 13\u001b[0m net \u001b[39m=\u001b[39m ChessModel()\n\u001b[0;32m     15\u001b[0m policy, score \u001b[39m=\u001b[39m net\u001b[39m.\u001b[39mevaluate(board)\n\u001b[0;32m     16\u001b[0m print_policy(policy)\n",
      "File \u001b[1;32m~\\projects\\python\\dinora\\dinora\\net.py:19\u001b[0m, in \u001b[0;36mChessModel.__init__\u001b[1;34m(self, model_path)\u001b[0m\n\u001b[0;32m     18\u001b[0m \u001b[39mdef\u001b[39;00m \u001b[39m__init__\u001b[39m(\u001b[39mself\u001b[39m, model_path\u001b[39m=\u001b[39mBEST_MODEL) \u001b[39m-\u001b[39m\u001b[39m>\u001b[39m \u001b[39mNone\u001b[39;00m:\n\u001b[1;32m---> 19\u001b[0m     \u001b[39mself\u001b[39m\u001b[39m.\u001b[39mmodel: keras\u001b[39m.\u001b[39mModel \u001b[39m=\u001b[39m keras\u001b[39m.\u001b[39;49mmodels\u001b[39m.\u001b[39;49mload_model(model_path)\n",
      "File \u001b[1;32mc:\\Users\\Saegl\\projects\\python\\dinora\\.venv\\lib\\site-packages\\keras\\utils\\traceback_utils.py:67\u001b[0m, in \u001b[0;36mfilter_traceback.<locals>.error_handler\u001b[1;34m(*args, **kwargs)\u001b[0m\n\u001b[0;32m     65\u001b[0m \u001b[39mexcept\u001b[39;00m \u001b[39mException\u001b[39;00m \u001b[39mas\u001b[39;00m e:  \u001b[39m# pylint: disable=broad-except\u001b[39;00m\n\u001b[0;32m     66\u001b[0m   filtered_tb \u001b[39m=\u001b[39m _process_traceback_frames(e\u001b[39m.\u001b[39m__traceback__)\n\u001b[1;32m---> 67\u001b[0m   \u001b[39mraise\u001b[39;00m e\u001b[39m.\u001b[39mwith_traceback(filtered_tb) \u001b[39mfrom\u001b[39;00m \u001b[39mNone\u001b[39m\n\u001b[0;32m     68\u001b[0m \u001b[39mfinally\u001b[39;00m:\n\u001b[0;32m     69\u001b[0m   \u001b[39mdel\u001b[39;00m filtered_tb\n",
      "File \u001b[1;32mc:\\Users\\Saegl\\projects\\python\\dinora\\.venv\\lib\\site-packages\\keras\\saving\\save.py:204\u001b[0m, in \u001b[0;36mload_model\u001b[1;34m(filepath, custom_objects, compile, options)\u001b[0m\n\u001b[0;32m    202\u001b[0m \u001b[39mif\u001b[39;00m \u001b[39misinstance\u001b[39m(filepath_str, \u001b[39mstr\u001b[39m):\n\u001b[0;32m    203\u001b[0m   \u001b[39mif\u001b[39;00m \u001b[39mnot\u001b[39;00m tf\u001b[39m.\u001b[39mio\u001b[39m.\u001b[39mgfile\u001b[39m.\u001b[39mexists(filepath_str):\n\u001b[1;32m--> 204\u001b[0m     \u001b[39mraise\u001b[39;00m \u001b[39mIOError\u001b[39;00m(\u001b[39mf\u001b[39m\u001b[39m'\u001b[39m\u001b[39mNo file or directory found at \u001b[39m\u001b[39m{\u001b[39;00mfilepath_str\u001b[39m}\u001b[39;00m\u001b[39m'\u001b[39m)\n\u001b[0;32m    206\u001b[0m   \u001b[39mif\u001b[39;00m tf\u001b[39m.\u001b[39mio\u001b[39m.\u001b[39mgfile\u001b[39m.\u001b[39misdir(filepath_str):\n\u001b[0;32m    207\u001b[0m     \u001b[39mreturn\u001b[39;00m saved_model_load\u001b[39m.\u001b[39mload(filepath_str, \u001b[39mcompile\u001b[39m, options)\n",
      "\u001b[1;31mOSError\u001b[0m: No file or directory found at C:\\Users\\Saegl\\projects\\python\\dinora\\dinora\\..\\models\\best_model.h5"
     ]
    }
   ],
   "source": [
    "# net\n",
    "import chess\n",
    "\n",
    "from dinora.net import ChessModel\n",
    "\n",
    "def print_policy(p):\n",
    "    items = list(p.items())\n",
    "    items.sort(key=lambda x: x[1])\n",
    "    for item in items:\n",
    "        print(item)\n",
    "\n",
    "fen = input(\"fen>\") or chess.STARTING_FEN\n",
    "board = chess.Board(fen)\n",
    "net = ChessModel()\n",
    "\n",
    "policy, score = net.evaluate(board)\n",
    "print_policy(policy)\n",
    "print(score)\n",
    "\n",
    "# import badgyal\n",
    "\n",
    "# bad = badgyal.BGNet(False)\n",
    "# policy, score = bad.eval(board)\n",
    "# print_policy(policy)\n",
    "# print(score)"
   ]
  },
  {
   "cell_type": "code",
   "execution_count": null,
   "metadata": {},
   "outputs": [],
   "source": [
    "from dinora.net import ChessModel\n",
    "from dinora.selfplay import gen_game\n",
    "\n",
    "nodes = 10\n",
    "net = ChessModel(\"models/best_light_model.h5\")\n",
    "c = 2.0\n",
    "game = gen_game(nodes, net, c)\n",
    "print(game)"
   ]
  },
  {
   "cell_type": "code",
   "execution_count": null,
   "metadata": {},
   "outputs": [],
   "source": [
    "from dinora.model import ModelConfig, LightConfig, build_model\n",
    "\n",
    "model = build_model(ModelConfig)\n",
    "model.summary()\n",
    "\n",
    "lmodel = build_model(LightConfig)\n",
    "lmodel.summary()"
   ]
  },
  {
   "cell_type": "code",
   "execution_count": null,
   "metadata": {},
   "outputs": [],
   "source": [
    "from dinora.policy import uci_labels, flipped_uci_labels, move_lookup, flipped_move_lookup\n",
    "\n",
    "move = chess.Move.from_uci(\"e2e4\")\n",
    "print(uci_labels)\n",
    "print(flipped_uci_labels)\n",
    "\n",
    "print(move_lookup[move])\n",
    "print(flipped_move_lookup[move])"
   ]
  },
  {
   "cell_type": "code",
   "execution_count": null,
   "metadata": {},
   "outputs": [],
   "source": [
    "from time import time\n",
    "from dinora.search import uct_nodes\n",
    "from dinora.utils import disable_tensorflow_log\n",
    "\n",
    "disable_tensorflow_log()\n",
    "\n",
    "from dinora.net import ChessModel, ChessModelWithCache\n",
    "\n",
    "fen = input(\"fen> \") or chess.STARTING_FEN\n",
    "nodes = int(input(\"nodes> \") or 200)\n",
    "c = float(input(\"c> \") or 2.0)\n",
    "dirichlet_alpha = 0.3\n",
    "noise_eps = 0.25\n",
    "softmax_temp = 1.6\n",
    "\n",
    "board = chess.Board(fen)\n",
    "net = ChessModel(\"models/best_light_model.h5\")\n",
    "\n",
    "start = time()\n",
    "bestmove, value = uct_nodes(\n",
    "    board, nodes, net, c, print, dirichlet_alpha, noise_eps, softmax_temp\n",
    ")\n",
    "print(\"Elapsed time: \", time() - start)\n",
    "print(f\"Bestmove: {bestmove}\")"
   ]
  }
 ],
 "metadata": {
  "kernelspec": {
   "display_name": "Python 3.10.5 ('.venv': poetry)",
   "language": "python",
   "name": "python3"
  },
  "language_info": {
   "codemirror_mode": {
    "name": "ipython",
    "version": 3
   },
   "file_extension": ".py",
   "mimetype": "text/x-python",
   "name": "python",
   "nbconvert_exporter": "python",
   "pygments_lexer": "ipython3",
   "version": "3.10.5"
  },
  "orig_nbformat": 4,
  "vscode": {
   "interpreter": {
    "hash": "80ac998af712ea9e92e961dc042f0169a336961d5eba3e68bf3ef46b4942a0b5"
   }
  }
 },
 "nbformat": 4,
 "nbformat_minor": 2
}
