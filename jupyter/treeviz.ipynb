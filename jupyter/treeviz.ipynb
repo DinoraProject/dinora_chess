{
 "cells": [
  {
   "cell_type": "code",
   "execution_count": 1,
   "metadata": {},
   "outputs": [],
   "source": [
    "import dinora.net\n",
    "\n",
    "dnn_model = dinora.net.ChessModel()\n"
   ]
  },
  {
   "cell_type": "code",
   "execution_count": 2,
   "metadata": {},
   "outputs": [],
   "source": [
    "from dinora.metrics.treeviz import render_state, RenderParams\n",
    "\n",
    "render_state(\n",
    "    model=dnn_model,\n",
    "    fen=\"r1bqkb1r/pppp1ppp/2n5/1B2p3/4n3/5N2/PPPP1PPP/RNBQ1RK1 w kq - 0 5\",\n",
    "    nodes=50,\n",
    "    c=25.0,\n",
    "    # format='png',\n",
    "    params=RenderParams(max_number_of_nodes=10),\n",
    ")\n"
   ]
  },
  {
   "cell_type": "code",
   "execution_count": 3,
   "metadata": {},
   "outputs": [],
   "source": [
    "from dinora.metrics.treeviz import render_search_process\n",
    "\n",
    "render_search_process(\n",
    "    model=dnn_model,\n",
    "    fen=\"r1bqkb1r/pppp1ppp/2n5/1B2p3/4n3/5N2/PPPP1PPP/RNBQ1RK1 w kq - 0 5\",\n",
    "    nodes=20,\n",
    "    c=25.0\n",
    ")\n"
   ]
  }
 ],
 "metadata": {
  "kernelspec": {
   "display_name": "Python 3.10.5 ('.venv': poetry)",
   "language": "python",
   "name": "python3"
  },
  "language_info": {
   "codemirror_mode": {
    "name": "ipython",
    "version": 3
   },
   "file_extension": ".py",
   "mimetype": "text/x-python",
   "name": "python",
   "nbconvert_exporter": "python",
   "pygments_lexer": "ipython3",
   "version": "3.10.5"
  },
  "orig_nbformat": 4,
  "vscode": {
   "interpreter": {
    "hash": "80ac998af712ea9e92e961dc042f0169a336961d5eba3e68bf3ef46b4942a0b5"
   }
  }
 },
 "nbformat": 4,
 "nbformat_minor": 2
}
